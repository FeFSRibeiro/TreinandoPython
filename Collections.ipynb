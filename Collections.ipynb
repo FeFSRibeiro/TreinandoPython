{
  "nbformat": 4,
  "nbformat_minor": 0,
  "metadata": {
    "colab": {
      "name": "Collections.ipynb",
      "provenance": [],
      "authorship_tag": "ABX9TyNXzrnBiwRDp28SZPQAETiL",
      "include_colab_link": true
    },
    "kernelspec": {
      "name": "python3",
      "display_name": "Python 3"
    }
  },
  "cells": [
    {
      "cell_type": "markdown",
      "metadata": {
        "id": "view-in-github",
        "colab_type": "text"
      },
      "source": [
        "<a href=\"https://colab.research.google.com/github/FeFSRibeiro/TreinandoPython/blob/master/Collections.ipynb\" target=\"_parent\"><img src=\"https://colab.research.google.com/assets/colab-badge.svg\" alt=\"Open In Colab\"/></a>"
      ]
    },
    {
      "cell_type": "markdown",
      "metadata": {
        "id": "CFv3zXI3fFM5"
      },
      "source": [
        "#Collections em Python 3"
      ]
    },
    {
      "cell_type": "markdown",
      "metadata": {
        "id": "DWOqiB45U9-A"
      },
      "source": [
        "#Lista"
      ]
    },
    {
      "cell_type": "markdown",
      "metadata": {
        "id": "EL5THKvxVKux"
      },
      "source": [
        "## Criando uma lista"
      ]
    },
    {
      "cell_type": "code",
      "metadata": {
        "colab": {
          "base_uri": "https://localhost:8080/"
        },
        "id": "Ucby9rStUA82",
        "outputId": "7ab9d39a-429f-469e-931d-83ed116c2213"
      },
      "source": [
        "lista  = [2,13,45,76,90,71]\r\n",
        "lista"
      ],
      "execution_count": 6,
      "outputs": [
        {
          "output_type": "execute_result",
          "data": {
            "text/plain": [
              "[2, 13, 45, 76, 90, 71]"
            ]
          },
          "metadata": {
            "tags": []
          },
          "execution_count": 6
        }
      ]
    },
    {
      "cell_type": "markdown",
      "metadata": {
        "id": "LgU1XY6uVObQ"
      },
      "source": [
        "## Percorrendo uma lista"
      ]
    },
    {
      "cell_type": "code",
      "metadata": {
        "colab": {
          "base_uri": "https://localhost:8080/"
        },
        "id": "Vcc3z85SVSXs",
        "outputId": "c6a65b2d-04d0-478d-f1dc-612e0b415636"
      },
      "source": [
        "for elemento in lista:\r\n",
        "  print (elemento)"
      ],
      "execution_count": 8,
      "outputs": [
        {
          "output_type": "stream",
          "text": [
            "2\n",
            "13\n",
            "45\n",
            "71\n",
            "76\n",
            "90\n"
          ],
          "name": "stdout"
        }
      ]
    },
    {
      "cell_type": "markdown",
      "metadata": {
        "id": "cR_wtPwsVbfR"
      },
      "source": [
        "##Inserindo elemento no final da lista"
      ]
    },
    {
      "cell_type": "code",
      "metadata": {
        "colab": {
          "base_uri": "https://localhost:8080/"
        },
        "id": "aCIm_SOeVeJq",
        "outputId": "2b64d19e-a4aa-4c6f-bd8b-9c3085bc06be"
      },
      "source": [
        "lista.append(15)\r\n",
        "lista"
      ],
      "execution_count": 9,
      "outputs": [
        {
          "output_type": "execute_result",
          "data": {
            "text/plain": [
              "[2, 13, 45, 71, 76, 90, 15]"
            ]
          },
          "metadata": {
            "tags": []
          },
          "execution_count": 9
        }
      ]
    },
    {
      "cell_type": "markdown",
      "metadata": {
        "id": "wmRNJhD3VpDD"
      },
      "source": [
        "##Inserindo elemento no meio da lista"
      ]
    },
    {
      "cell_type": "code",
      "metadata": {
        "colab": {
          "base_uri": "https://localhost:8080/"
        },
        "id": "i-9P8cKVVwaI",
        "outputId": "01fcaebb-2506-472b-b107-503302dd0d9c"
      },
      "source": [
        "index = int(len(lista)/2)\r\n",
        "lista.insert(index,100)\r\n",
        "lista"
      ],
      "execution_count": 11,
      "outputs": [
        {
          "output_type": "execute_result",
          "data": {
            "text/plain": [
              "[2, 13, 45, 100, 71, 76, 90, 15]"
            ]
          },
          "metadata": {
            "tags": []
          },
          "execution_count": 11
        }
      ]
    },
    {
      "cell_type": "markdown",
      "metadata": {
        "id": "55PUE7q2WVEW"
      },
      "source": [
        "##Inserindo elemento no inicio da lista"
      ]
    },
    {
      "cell_type": "code",
      "metadata": {
        "colab": {
          "base_uri": "https://localhost:8080/"
        },
        "id": "L5VVP4vTWYn7",
        "outputId": "a425b98d-71b2-4fce-f1ca-e79f5094b5f1"
      },
      "source": [
        "lista.insert(0,99)\r\n",
        "lista"
      ],
      "execution_count": 12,
      "outputs": [
        {
          "output_type": "execute_result",
          "data": {
            "text/plain": [
              "[99, 2, 13, 45, 100, 71, 76, 90, 15]"
            ]
          },
          "metadata": {
            "tags": []
          },
          "execution_count": 12
        }
      ]
    },
    {
      "cell_type": "markdown",
      "metadata": {
        "id": "RvKcaxERVCPJ"
      },
      "source": [
        "#Tupla"
      ]
    },
    {
      "cell_type": "code",
      "metadata": {
        "id": "JEPtE6WRUdfU"
      },
      "source": [
        "tupla = (25,50)"
      ],
      "execution_count": null,
      "outputs": []
    }
  ]
}