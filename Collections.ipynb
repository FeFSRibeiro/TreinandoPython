{
  "nbformat": 4,
  "nbformat_minor": 0,
  "metadata": {
    "colab": {
      "name": "Collections.ipynb",
      "provenance": [],
      "collapsed_sections": [],
      "authorship_tag": "ABX9TyM/9qyP3IjdjDqd/z6m2+5Q",
      "include_colab_link": true
    },
    "kernelspec": {
      "name": "python3",
      "display_name": "Python 3"
    }
  },
  "cells": [
    {
      "cell_type": "markdown",
      "metadata": {
        "id": "view-in-github",
        "colab_type": "text"
      },
      "source": [
        "<a href=\"https://colab.research.google.com/github/FeFSRibeiro/TreinandoPython/blob/master/Collections.ipynb\" target=\"_parent\"><img src=\"https://colab.research.google.com/assets/colab-badge.svg\" alt=\"Open In Colab\"/></a>"
      ]
    },
    {
      "cell_type": "markdown",
      "metadata": {
        "id": "CFv3zXI3fFM5"
      },
      "source": [
        "#Collections em Python 3"
      ]
    },
    {
      "cell_type": "markdown",
      "metadata": {
        "id": "DWOqiB45U9-A"
      },
      "source": [
        "#Lista"
      ]
    },
    {
      "cell_type": "markdown",
      "metadata": {
        "id": "EL5THKvxVKux"
      },
      "source": [
        "## Criando uma lista"
      ]
    },
    {
      "cell_type": "code",
      "metadata": {
        "colab": {
          "base_uri": "https://localhost:8080/"
        },
        "id": "Ucby9rStUA82",
        "outputId": "7ab9d39a-429f-469e-931d-83ed116c2213"
      },
      "source": [
        "lista  = [2,13,45,76,90,71]\r\n",
        "lista"
      ],
      "execution_count": null,
      "outputs": [
        {
          "output_type": "execute_result",
          "data": {
            "text/plain": [
              "[2, 13, 45, 76, 90, 71]"
            ]
          },
          "metadata": {
            "tags": []
          },
          "execution_count": 6
        }
      ]
    },
    {
      "cell_type": "markdown",
      "metadata": {
        "id": "LgU1XY6uVObQ"
      },
      "source": [
        "## Percorrendo uma lista"
      ]
    },
    {
      "cell_type": "code",
      "metadata": {
        "colab": {
          "base_uri": "https://localhost:8080/"
        },
        "id": "Vcc3z85SVSXs",
        "outputId": "c6a65b2d-04d0-478d-f1dc-612e0b415636"
      },
      "source": [
        "for elemento in lista:\r\n",
        "  print (elemento)"
      ],
      "execution_count": null,
      "outputs": [
        {
          "output_type": "stream",
          "text": [
            "2\n",
            "13\n",
            "45\n",
            "71\n",
            "76\n",
            "90\n"
          ],
          "name": "stdout"
        }
      ]
    },
    {
      "cell_type": "markdown",
      "metadata": {
        "id": "cR_wtPwsVbfR"
      },
      "source": [
        "##Inserindo elemento no final da lista"
      ]
    },
    {
      "cell_type": "code",
      "metadata": {
        "colab": {
          "base_uri": "https://localhost:8080/"
        },
        "id": "aCIm_SOeVeJq",
        "outputId": "2b64d19e-a4aa-4c6f-bd8b-9c3085bc06be"
      },
      "source": [
        "lista.append(15)\r\n",
        "lista"
      ],
      "execution_count": null,
      "outputs": [
        {
          "output_type": "execute_result",
          "data": {
            "text/plain": [
              "[2, 13, 45, 71, 76, 90, 15]"
            ]
          },
          "metadata": {
            "tags": []
          },
          "execution_count": 9
        }
      ]
    },
    {
      "cell_type": "markdown",
      "metadata": {
        "id": "wmRNJhD3VpDD"
      },
      "source": [
        "##Inserindo elemento no meio da lista"
      ]
    },
    {
      "cell_type": "code",
      "metadata": {
        "colab": {
          "base_uri": "https://localhost:8080/"
        },
        "id": "i-9P8cKVVwaI",
        "outputId": "01fcaebb-2506-472b-b107-503302dd0d9c"
      },
      "source": [
        "index = int(len(lista)/2)\r\n",
        "lista.insert(index,100)\r\n",
        "lista"
      ],
      "execution_count": null,
      "outputs": [
        {
          "output_type": "execute_result",
          "data": {
            "text/plain": [
              "[2, 13, 45, 100, 71, 76, 90, 15]"
            ]
          },
          "metadata": {
            "tags": []
          },
          "execution_count": 11
        }
      ]
    },
    {
      "cell_type": "markdown",
      "metadata": {
        "id": "55PUE7q2WVEW"
      },
      "source": [
        "##Inserindo elemento no inicio da lista"
      ]
    },
    {
      "cell_type": "code",
      "metadata": {
        "colab": {
          "base_uri": "https://localhost:8080/"
        },
        "id": "L5VVP4vTWYn7",
        "outputId": "a425b98d-71b2-4fce-f1ca-e79f5094b5f1"
      },
      "source": [
        "lista.insert(0,99)\r\n",
        "lista"
      ],
      "execution_count": null,
      "outputs": [
        {
          "output_type": "execute_result",
          "data": {
            "text/plain": [
              "[99, 2, 13, 45, 100, 71, 76, 90, 15]"
            ]
          },
          "metadata": {
            "tags": []
          },
          "execution_count": 12
        }
      ]
    },
    {
      "cell_type": "markdown",
      "metadata": {
        "id": "uwRgUv70nOYY"
      },
      "source": [
        "## Usando EXTEND"
      ]
    },
    {
      "cell_type": "code",
      "metadata": {
        "colab": {
          "base_uri": "https://localhost:8080/"
        },
        "id": "46tJGpGXnahq",
        "outputId": "409c44a0-b903-4d46-e2af-ddff14f926eb"
      },
      "source": [
        "lista1 = [1,3,5,7]\r\n",
        "lista2 = [2,3,4,7,9]\r\n",
        "lista3 = []\r\n",
        "lista3.extend(lista1)\r\n",
        "\r\n",
        "lista3.extend(lista2)\r\n",
        "lista3\r\n",
        "\r\n",
        "#Contando quantos elementos tem na lista\r\n",
        "len(lista3)"
      ],
      "execution_count": 5,
      "outputs": [
        {
          "output_type": "execute_result",
          "data": {
            "text/plain": [
              "9"
            ]
          },
          "metadata": {
            "tags": []
          },
          "execution_count": 5
        }
      ]
    },
    {
      "cell_type": "markdown",
      "metadata": {
        "id": "i5qAHlp9oAaD"
      },
      "source": [
        "## Eliminando duplicidade utilizando conjunto (SET)"
      ]
    },
    {
      "cell_type": "code",
      "metadata": {
        "colab": {
          "base_uri": "https://localhost:8080/"
        },
        "id": "uN8rSHFGoFg3",
        "outputId": "725895eb-b5ff-4892-e74a-87985b9cfed0"
      },
      "source": [
        "lista3\r\n",
        "set(lista3)  # Eliminando duplicidade usando SET\r\n",
        "\r\n",
        "lista3 = set(lista3)\r\n",
        "#Um SET(conjunto) é representado por chaves {}\r\n",
        "lista3  "
      ],
      "execution_count": 7,
      "outputs": [
        {
          "output_type": "execute_result",
          "data": {
            "text/plain": [
              "{1, 2, 3, 4, 5, 7, 9}"
            ]
          },
          "metadata": {
            "tags": []
          },
          "execution_count": 7
        }
      ]
    },
    {
      "cell_type": "markdown",
      "metadata": {
        "id": "nhVJtQi7oACH"
      },
      "source": [
        " ##Criando um conjunto"
      ]
    },
    {
      "cell_type": "code",
      "metadata": {
        "colab": {
          "base_uri": "https://localhost:8080/"
        },
        "id": "ihI2TA-4pFeY",
        "outputId": "c76dce9e-1053-4b1d-fc58-abbb646d8011"
      },
      "source": [
        "# Se a ordem dos elementos não importar, você pode usar conjuntos. (Conjunto não tem ordenação/ indexação)\r\n",
        "# Caso contrário, use listas.\r\n",
        "\r\n",
        "{1,4,4,5,6}"
      ],
      "execution_count": 9,
      "outputs": [
        {
          "output_type": "execute_result",
          "data": {
            "text/plain": [
              "{1, 4, 5, 6}"
            ]
          },
          "metadata": {
            "tags": []
          },
          "execution_count": 9
        }
      ]
    },
    {
      "cell_type": "code",
      "metadata": {
        "colab": {
          "base_uri": "https://localhost:8080/"
        },
        "id": "mvWJDid_pKb7",
        "outputId": "4b1c15eb-0153-48eb-aa7f-aff725e96cf7"
      },
      "source": [
        "#Um conjunto é criado eliminando as duplicidades\r\n",
        "conjunto = {1,4,4,5,6}  \r\n",
        "conjunto\r\n",
        "\r\n",
        "\r\n",
        "for elemento in conjunto:\r\n",
        "  print(elemento)"
      ],
      "execution_count": 15,
      "outputs": [
        {
          "output_type": "execute_result",
          "data": {
            "text/plain": [
              "set"
            ]
          },
          "metadata": {
            "tags": []
          },
          "execution_count": 15
        }
      ]
    },
    {
      "cell_type": "markdown",
      "metadata": {
        "id": "RvKcaxERVCPJ"
      },
      "source": [
        "#Tupla"
      ]
    },
    {
      "cell_type": "code",
      "metadata": {
        "id": "JEPtE6WRUdfU"
      },
      "source": [
        "tupla = (25,50)"
      ],
      "execution_count": null,
      "outputs": []
    },
    {
      "cell_type": "markdown",
      "metadata": {
        "id": "nFOXZkxNl2lk"
      },
      "source": [
        "\r\n"
      ]
    },
    {
      "cell_type": "code",
      "metadata": {
        "id": "esxt5Vvxl6Hg"
      },
      "source": [
        ""
      ],
      "execution_count": null,
      "outputs": []
    }
  ]
}